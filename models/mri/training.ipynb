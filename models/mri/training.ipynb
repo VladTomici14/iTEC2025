{
 "cells": [
  {
   "cell_type": "code",
   "id": "initial_id",
   "metadata": {
    "collapsed": true,
    "ExecuteTime": {
     "end_time": "2025-04-05T23:12:47.076899Z",
     "start_time": "2025-04-05T23:12:36.687880Z"
    }
   },
   "source": [
    "import tensorflow as tf\n",
    "from tensorflow.keras.preprocessing.image import ImageDataGenerator\n",
    "from tensorflow.keras.applications import MobileNetV2\n",
    "from tensorflow.keras.models import Model\n",
    "from tensorflow.keras.layers import Dense, GlobalAveragePooling2D\n",
    "from tensorflow.keras.optimizers import Adam"
   ],
   "outputs": [],
   "execution_count": 1
  },
  {
   "metadata": {
    "ExecuteTime": {
     "end_time": "2025-04-05T23:17:44.097945Z",
     "start_time": "2025-04-05T23:17:42.556229Z"
    }
   },
   "cell_type": "code",
   "source": [
    "datagen = ImageDataGenerator(\n",
    "    rescale=1./255,\n",
    "    validation_split=0.2,  # 20% validation\n",
    "    rotation_range=10,\n",
    "    zoom_range=0.1,\n",
    "    horizontal_flip=True\n",
    ")\n",
    "\n",
    "train_gen = datagen.flow_from_directory(\n",
    "    \"../../data/mri\",\n",
    "    target_size=(224, 224),\n",
    "    batch_size=32,\n",
    "    class_mode='binary',\n",
    "    subset='training'\n",
    ")\n",
    "\n",
    "val_gen = datagen.flow_from_directory(\n",
    "    \"../../data/mri\",\n",
    "    target_size=(224, 224),\n",
    "    batch_size=32,\n",
    "    class_mode='binary',\n",
    "    subset='validation'\n",
    ")"
   ],
   "id": "924c48dfb49028a4",
   "outputs": [
    {
     "name": "stdout",
     "output_type": "stream",
     "text": [
      "Found 19114 images belonging to 2 classes.\n",
      "Found 4777 images belonging to 2 classes.\n"
     ]
    }
   ],
   "execution_count": 3
  },
  {
   "metadata": {
    "ExecuteTime": {
     "end_time": "2025-04-05T23:17:51.180518Z",
     "start_time": "2025-04-05T23:17:48.790272Z"
    }
   },
   "cell_type": "code",
   "source": [
    "base_model = MobileNetV2(weights='imagenet', include_top=False, input_shape=(224, 224, 3))\n",
    "base_model.trainable = False  # Freeze base for now\n",
    "\n",
    "x = GlobalAveragePooling2D()(base_model.output)\n",
    "x = Dense(128, activation='relu')(x)\n",
    "output = Dense(1, activation='sigmoid')(x)\n",
    "\n",
    "model = Model(inputs=base_model.input, outputs=output)\n"
   ],
   "id": "20fb9807f38b492f",
   "outputs": [
    {
     "name": "stderr",
     "output_type": "stream",
     "text": [
      "2025-04-06 02:17:48.848367: I metal_plugin/src/device/metal_device.cc:1154] Metal device set to: Apple M1 Pro\n",
      "2025-04-06 02:17:48.848674: I metal_plugin/src/device/metal_device.cc:296] systemMemory: 16.00 GB\n",
      "2025-04-06 02:17:48.848680: I metal_plugin/src/device/metal_device.cc:313] maxCacheSize: 5.33 GB\n",
      "2025-04-06 02:17:48.848732: I tensorflow/core/common_runtime/pluggable_device/pluggable_device_factory.cc:305] Could not identify NUMA node of platform GPU ID 0, defaulting to 0. Your kernel may not have been built with NUMA support.\n",
      "2025-04-06 02:17:48.849094: I tensorflow/core/common_runtime/pluggable_device/pluggable_device_factory.cc:271] Created TensorFlow device (/job:localhost/replica:0/task:0/device:GPU:0 with 0 MB memory) -> physical PluggableDevice (device: 0, name: METAL, pci bus id: <undefined>)\n"
     ]
    }
   ],
   "execution_count": 4
  },
  {
   "metadata": {
    "ExecuteTime": {
     "end_time": "2025-04-05T23:37:55.425755Z",
     "start_time": "2025-04-05T23:18:49.001264Z"
    }
   },
   "cell_type": "code",
   "source": [
    "model.compile(optimizer=Adam(learning_rate=1e-4),\n",
    "              loss='binary_crossentropy',\n",
    "              metrics=['accuracy'])\n",
    "\n",
    "model.fit(train_gen, validation_data=val_gen, epochs=20, steps_per_epoch=100)\n"
   ],
   "id": "510611caeeb04bd2",
   "outputs": [
    {
     "name": "stdout",
     "output_type": "stream",
     "text": [
      "Epoch 1/20\n",
      "\u001B[1m100/100\u001B[0m \u001B[32m━━━━━━━━━━━━━━━━━━━━\u001B[0m\u001B[37m\u001B[0m \u001B[1m79s\u001B[0m 742ms/step - accuracy: 0.9993 - loss: 0.0080 - val_accuracy: 0.9998 - val_loss: 0.0013\n",
      "Epoch 2/20\n",
      "\u001B[1m100/100\u001B[0m \u001B[32m━━━━━━━━━━━━━━━━━━━━\u001B[0m\u001B[37m\u001B[0m \u001B[1m62s\u001B[0m 628ms/step - accuracy: 1.0000 - loss: 9.5400e-04 - val_accuracy: 1.0000 - val_loss: 4.8117e-04\n",
      "Epoch 3/20\n",
      "\u001B[1m100/100\u001B[0m \u001B[32m━━━━━━━━━━━━━━━━━━━━\u001B[0m\u001B[37m\u001B[0m \u001B[1m57s\u001B[0m 579ms/step - accuracy: 1.0000 - loss: 4.6405e-04 - val_accuracy: 1.0000 - val_loss: 3.0470e-04\n",
      "Epoch 4/20\n",
      "\u001B[1m100/100\u001B[0m \u001B[32m━━━━━━━━━━━━━━━━━━━━\u001B[0m\u001B[37m\u001B[0m \u001B[1m57s\u001B[0m 576ms/step - accuracy: 1.0000 - loss: 4.8695e-04 - val_accuracy: 1.0000 - val_loss: 5.7114e-04\n",
      "Epoch 5/20\n",
      "\u001B[1m100/100\u001B[0m \u001B[32m━━━━━━━━━━━━━━━━━━━━\u001B[0m\u001B[37m\u001B[0m \u001B[1m56s\u001B[0m 563ms/step - accuracy: 1.0000 - loss: 2.3476e-04 - val_accuracy: 1.0000 - val_loss: 3.3022e-04\n",
      "Epoch 6/20\n",
      "\u001B[1m 98/100\u001B[0m \u001B[32m━━━━━━━━━━━━━━━━━━━\u001B[0m\u001B[37m━\u001B[0m \u001B[1m0s\u001B[0m 179ms/step - accuracy: 1.0000 - loss: 8.9993e-05"
     ]
    },
    {
     "name": "stderr",
     "output_type": "stream",
     "text": [
      "/Users/vladt/miniconda3/envs/metal/lib/python3.10/site-packages/keras/src/trainers/epoch_iterator.py:107: UserWarning: Your input ran out of data; interrupting training. Make sure that your dataset or generator can generate at least `steps_per_epoch * epochs` batches. You may need to use the `.repeat()` function when building your dataset.\n",
      "  self._interrupted_warning()\n"
     ]
    },
    {
     "name": "stdout",
     "output_type": "stream",
     "text": [
      "\u001B[1m100/100\u001B[0m \u001B[32m━━━━━━━━━━━━━━━━━━━━\u001B[0m\u001B[37m\u001B[0m \u001B[1m51s\u001B[0m 511ms/step - accuracy: 1.0000 - loss: 8.9684e-05 - val_accuracy: 0.9998 - val_loss: 4.5777e-04\n",
      "Epoch 7/20\n",
      "\u001B[1m100/100\u001B[0m \u001B[32m━━━━━━━━━━━━━━━━━━━━\u001B[0m\u001B[37m\u001B[0m \u001B[1m56s\u001B[0m 560ms/step - accuracy: 1.0000 - loss: 7.5477e-05 - val_accuracy: 1.0000 - val_loss: 1.9522e-04\n",
      "Epoch 8/20\n",
      "\u001B[1m100/100\u001B[0m \u001B[32m━━━━━━━━━━━━━━━━━━━━\u001B[0m\u001B[37m\u001B[0m \u001B[1m56s\u001B[0m 561ms/step - accuracy: 1.0000 - loss: 5.2531e-05 - val_accuracy: 1.0000 - val_loss: 1.7151e-04\n",
      "Epoch 9/20\n",
      "\u001B[1m100/100\u001B[0m \u001B[32m━━━━━━━━━━━━━━━━━━━━\u001B[0m\u001B[37m\u001B[0m \u001B[1m55s\u001B[0m 557ms/step - accuracy: 1.0000 - loss: 1.1504e-04 - val_accuracy: 1.0000 - val_loss: 1.8248e-04\n",
      "Epoch 10/20\n",
      "\u001B[1m100/100\u001B[0m \u001B[32m━━━━━━━━━━━━━━━━━━━━\u001B[0m\u001B[37m\u001B[0m \u001B[1m55s\u001B[0m 555ms/step - accuracy: 1.0000 - loss: 9.1603e-05 - val_accuracy: 1.0000 - val_loss: 1.5314e-04\n",
      "Epoch 11/20\n",
      "\u001B[1m100/100\u001B[0m \u001B[32m━━━━━━━━━━━━━━━━━━━━\u001B[0m\u001B[37m\u001B[0m \u001B[1m53s\u001B[0m 533ms/step - accuracy: 1.0000 - loss: 3.2023e-05 - val_accuracy: 0.9998 - val_loss: 2.5002e-04\n",
      "Epoch 12/20\n",
      "\u001B[1m100/100\u001B[0m \u001B[32m━━━━━━━━━━━━━━━━━━━━\u001B[0m\u001B[37m\u001B[0m \u001B[1m47s\u001B[0m 474ms/step - accuracy: 1.0000 - loss: 4.0025e-05 - val_accuracy: 1.0000 - val_loss: 1.4030e-04\n",
      "Epoch 13/20\n",
      "\u001B[1m100/100\u001B[0m \u001B[32m━━━━━━━━━━━━━━━━━━━━\u001B[0m\u001B[37m\u001B[0m \u001B[1m82s\u001B[0m 830ms/step - accuracy: 1.0000 - loss: 2.4584e-05 - val_accuracy: 1.0000 - val_loss: 1.7749e-04\n",
      "Epoch 14/20\n",
      "\u001B[1m100/100\u001B[0m \u001B[32m━━━━━━━━━━━━━━━━━━━━\u001B[0m\u001B[37m\u001B[0m \u001B[1m57s\u001B[0m 574ms/step - accuracy: 1.0000 - loss: 2.4675e-05 - val_accuracy: 1.0000 - val_loss: 7.1021e-05\n",
      "Epoch 15/20\n",
      "\u001B[1m100/100\u001B[0m \u001B[32m━━━━━━━━━━━━━━━━━━━━\u001B[0m\u001B[37m\u001B[0m \u001B[1m55s\u001B[0m 555ms/step - accuracy: 1.0000 - loss: 3.5750e-05 - val_accuracy: 1.0000 - val_loss: 7.4094e-05\n",
      "Epoch 16/20\n",
      "\u001B[1m100/100\u001B[0m \u001B[32m━━━━━━━━━━━━━━━━━━━━\u001B[0m\u001B[37m\u001B[0m \u001B[1m55s\u001B[0m 556ms/step - accuracy: 1.0000 - loss: 1.4984e-05 - val_accuracy: 0.9998 - val_loss: 2.8181e-04\n",
      "Epoch 17/20\n",
      "\u001B[1m100/100\u001B[0m \u001B[32m━━━━━━━━━━━━━━━━━━━━\u001B[0m\u001B[37m\u001B[0m \u001B[1m51s\u001B[0m 516ms/step - accuracy: 1.0000 - loss: 1.2174e-05 - val_accuracy: 1.0000 - val_loss: 7.7616e-05\n",
      "Epoch 18/20\n",
      "\u001B[1m100/100\u001B[0m \u001B[32m━━━━━━━━━━━━━━━━━━━━\u001B[0m\u001B[37m\u001B[0m \u001B[1m48s\u001B[0m 486ms/step - accuracy: 1.0000 - loss: 5.0524e-05 - val_accuracy: 0.9998 - val_loss: 4.3803e-04\n",
      "Epoch 19/20\n",
      "\u001B[1m100/100\u001B[0m \u001B[32m━━━━━━━━━━━━━━━━━━━━\u001B[0m\u001B[37m\u001B[0m \u001B[1m57s\u001B[0m 570ms/step - accuracy: 1.0000 - loss: 1.7765e-05 - val_accuracy: 1.0000 - val_loss: 1.3941e-04\n",
      "Epoch 20/20\n",
      "\u001B[1m100/100\u001B[0m \u001B[32m━━━━━━━━━━━━━━━━━━━━\u001B[0m\u001B[37m\u001B[0m \u001B[1m55s\u001B[0m 555ms/step - accuracy: 1.0000 - loss: 1.4399e-05 - val_accuracy: 0.9998 - val_loss: 2.3588e-04\n"
     ]
    },
    {
     "data": {
      "text/plain": [
       "<keras.src.callbacks.history.History at 0x308b3e8c0>"
      ]
     },
     "execution_count": 6,
     "metadata": {},
     "output_type": "execute_result"
    }
   ],
   "execution_count": 6
  },
  {
   "metadata": {
    "ExecuteTime": {
     "end_time": "2025-04-05T23:38:22.649125Z",
     "start_time": "2025-04-05T23:38:22.298972Z"
    }
   },
   "cell_type": "code",
   "source": "model.save(\"trained-models/mac-model.h5\")\n",
   "id": "13b48406737d0197",
   "outputs": [
    {
     "name": "stderr",
     "output_type": "stream",
     "text": [
      "WARNING:absl:You are saving your model as an HDF5 file via `model.save()` or `keras.saving.save_model(model)`. This file format is considered legacy. We recommend using instead the native Keras format, e.g. `model.save('my_model.keras')` or `keras.saving.save_model(model, 'my_model.keras')`. \n"
     ]
    }
   ],
   "execution_count": 7
  },
  {
   "metadata": {
    "ExecuteTime": {
     "end_time": "2025-04-05T23:38:29.776430Z",
     "start_time": "2025-04-05T23:38:27.397946Z"
    }
   },
   "cell_type": "code",
   "source": [
    "from tensorflow.keras.preprocessing import image\n",
    "import numpy as np\n",
    "\n",
    "img = image.load_img(\"../../images/hand.png\", target_size=(224, 224))\n",
    "img_array = image.img_to_array(img) / 255.0\n",
    "img_array = np.expand_dims(img_array, axis=0)\n",
    "\n",
    "pred = model.predict(img_array)\n",
    "print(\"MRI\" if pred[0][0] > 0.5 else \"Not MRI\")"
   ],
   "id": "5060563c2c3f74bc",
   "outputs": [
    {
     "name": "stdout",
     "output_type": "stream",
     "text": [
      "\u001B[1m1/1\u001B[0m \u001B[32m━━━━━━━━━━━━━━━━━━━━\u001B[0m\u001B[37m\u001B[0m \u001B[1m2s\u001B[0m 2s/step\n",
      "Not MRI\n"
     ]
    }
   ],
   "execution_count": 8
  },
  {
   "metadata": {},
   "cell_type": "code",
   "outputs": [],
   "execution_count": null,
   "source": "",
   "id": "db504b99ae29e87c"
  }
 ],
 "metadata": {
  "kernelspec": {
   "display_name": "Python 3",
   "language": "python",
   "name": "python3"
  },
  "language_info": {
   "codemirror_mode": {
    "name": "ipython",
    "version": 2
   },
   "file_extension": ".py",
   "mimetype": "text/x-python",
   "name": "python",
   "nbconvert_exporter": "python",
   "pygments_lexer": "ipython2",
   "version": "2.7.6"
  }
 },
 "nbformat": 4,
 "nbformat_minor": 5
}
